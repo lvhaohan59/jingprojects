{
 "cells": [
  {
   "cell_type": "markdown",
   "metadata": {
    "id": "CcUT6Fon_qRE"
   },
   "source": [
    "### Required Assignment 5.1: Will the Customer Accept the Coupon?\n",
    "\n",
    "**Context**\n",
    "\n",
    "Imagine driving through town and a coupon is delivered to your cell phone for a restaurant near where you are driving. Would you accept that coupon and take a short detour to the restaurant? Would you accept the coupon but use it on a subsequent trip? Would you ignore the coupon entirely? What if the coupon was for a bar instead of a restaurant? What about a coffee house? Would you accept a bar coupon with a minor passenger in the car? What about if it was just you and your partner in the car? Would weather impact the rate of acceptance? What about the time of day?\n",
    "\n",
    "Obviously, proximity to the business is a factor on whether the coupon is delivered to the driver or not, but what are the factors that determine whether a driver accepts the coupon once it is delivered to them? How would you determine whether a driver is likely to accept a coupon?\n",
    "\n",
    "**Overview**\n",
    "\n",
    "The goal of this project is to use what you know about visualizations and probability distributions to distinguish between customers who accepted a driving coupon versus those that did not.\n",
    "\n",
    "**Data**\n",
    "\n",
    "This data comes to us from the UCI Machine Learning repository and was collected via a survey on Amazon Mechanical Turk. The survey describes different driving scenarios including the destination, current time, weather, passenger, etc., and then ask the person whether he will accept the coupon if he is the driver. Answers that the user will drive there ‘right away’ or ‘later before the coupon expires’ are labeled as ‘Y = 1’ and answers ‘no, I do not want the coupon’ are labeled as ‘Y = 0’.  There are five different types of coupons -- less expensive restaurants (under \\$20), coffee houses, carry out & take away, bar, and more expensive restaurants (\\$20 - $50)."
   ]
  },
  {
   "cell_type": "markdown",
   "metadata": {
    "id": "1wORvMBJ_qRF"
   },
   "source": [
    "**Deliverables**\n",
    "\n",
    "Your final product should be a brief report that highlights the differences between customers who did and did not accept the coupons.  To explore the data you will utilize your knowledge of plotting, statistical summaries, and visualization using Python. You will publish your findings in a public facing github repository as your first portfolio piece.\n",
    "\n",
    "\n",
    "\n"
   ]
  },
  {
   "cell_type": "markdown",
   "metadata": {
    "id": "pG6_Ym6q_qRG"
   },
   "source": [
    "### Data Description\n",
    "Keep in mind that these values mentioned below are average values.\n",
    "\n",
    "The attributes of this data set include:\n",
    "1. User attributes\n",
    "    -  Gender: male, female\n",
    "    -  Age: below 21, 21 to 25, 26 to 30, etc.\n",
    "    -  Marital Status: single, married partner, unmarried partner, or widowed\n",
    "    -  Number of children: 0, 1, or more than 1\n",
    "    -  Education: high school, bachelors degree, associates degree, or graduate degree\n",
    "    -  Occupation: architecture & engineering, business & financial, etc.\n",
    "    -  Annual income: less than \\\\$12500, \\\\$12500 - \\\\$24999, \\\\$25000 - \\\\$37499, etc.\n",
    "    -  Number of times that he/she goes to a bar: 0, less than 1, 1 to 3, 4 to 8 or greater than 8\n",
    "    -  Number of times that he/she buys takeaway food: 0, less than 1, 1 to 3, 4 to 8 or greater\n",
    "    than 8\n",
    "    -  Number of times that he/she goes to a coffee house: 0, less than 1, 1 to 3, 4 to 8 or\n",
    "    greater than 8\n",
    "    -  Number of times that he/she eats at a restaurant with average expense less than \\\\$20 per\n",
    "    person: 0, less than 1, 1 to 3, 4 to 8 or greater than 8\n",
    "    -  Number of times that he/she goes to a bar: 0, less than 1, 1 to 3, 4 to 8 or greater than 8\n",
    "    \n",
    "\n",
    "2. Contextual attributes\n",
    "    - Driving destination: home, work, or no urgent destination\n",
    "    - Location of user, coupon and destination: we provide a map to show the geographical\n",
    "    location of the user, destination, and the venue, and we mark the distance between each\n",
    "    two places with time of driving. The user can see whether the venue is in the same\n",
    "    direction as the destination.\n",
    "    - Weather: sunny, rainy, or snowy\n",
    "    - Temperature: 30F, 55F, or 80F\n",
    "    - Time: 10AM, 2PM, or 6PM\n",
    "    - Passenger: alone, partner, kid(s), or friend(s)\n",
    "\n",
    "\n",
    "3. Coupon attributes\n",
    "    - time before it expires: 2 hours or one day"
   ]
  },
  {
   "cell_type": "code",
   "execution_count": 61,
   "metadata": {
    "id": "dzNoP3o__qRG"
   },
   "outputs": [],
   "source": [
    "import matplotlib.pyplot as plt\n",
    "import seaborn as sns\n",
    "import pandas as pd\n",
    "import numpy as np\n",
    "import plotly.express as px"
   ]
  },
  {
   "cell_type": "markdown",
   "metadata": {
    "id": "Ct8pI1uE_qRG"
   },
   "source": [
    "### Problems\n",
    "\n",
    "Use the prompts below to get started with your data analysis.  \n",
    "\n",
    "1. Read in the `coupons.csv` file.\n",
    "\n",
    "\n"
   ]
  },
  {
   "cell_type": "code",
   "execution_count": 3,
   "metadata": {
    "id": "X0vbffYg_qRH"
   },
   "outputs": [],
   "source": [
    "# data = pd.read_csv('data/coupons.csv')\n",
    "filepath = 'data/coupons.csv'"
   ]
  },
  {
   "cell_type": "code",
   "execution_count": 5,
   "metadata": {
    "id": "TXofQ_DF_qRH",
    "outputId": "2fc96a2c-1112-4b54-f24f-dbb9bc88abfb"
   },
   "outputs": [
    {
     "ename": "NameError",
     "evalue": "name 'data' is not defined",
     "output_type": "error",
     "traceback": [
      "\u001b[1;31m---------------------------------------------------------------------------\u001b[0m",
      "\u001b[1;31mNameError\u001b[0m                                 Traceback (most recent call last)",
      "Cell \u001b[1;32mIn[5], line 1\u001b[0m\n\u001b[1;32m----> 1\u001b[0m data\u001b[38;5;241m.\u001b[39mshape\n",
      "\u001b[1;31mNameError\u001b[0m: name 'data' is not defined"
     ]
    }
   ],
   "source": [
    "data.shape "
   ]
  },
  {
   "cell_type": "markdown",
   "metadata": {
    "id": "GcDs78ZH_qRH"
   },
   "source": [
    "2. Investigate the dataset for missing or problematic data."
   ]
  },
  {
   "cell_type": "code",
   "execution_count": 7,
   "metadata": {
    "id": "6CwL6oWj_qRH"
   },
   "outputs": [
    {
     "ename": "NameError",
     "evalue": "name 'data' is not defined",
     "output_type": "error",
     "traceback": [
      "\u001b[1;31m---------------------------------------------------------------------------\u001b[0m",
      "\u001b[1;31mNameError\u001b[0m                                 Traceback (most recent call last)",
      "Cell \u001b[1;32mIn[7], line 1\u001b[0m\n\u001b[1;32m----> 1\u001b[0m data\u001b[38;5;241m.\u001b[39misnull()\u001b[38;5;241m.\u001b[39msum()\n",
      "\u001b[1;31mNameError\u001b[0m: name 'data' is not defined"
     ]
    }
   ],
   "source": [
    "data.isnull().sum()"
   ]
  },
  {
   "cell_type": "markdown",
   "metadata": {
    "id": "bSdVSpYB_qRH"
   },
   "source": [
    "3. Decide what to do about your missing data -- drop, replace, other..."
   ]
  },
  {
   "cell_type": "code",
   "execution_count": 63,
   "metadata": {
    "id": "tyvoAC5F_qRI"
   },
   "outputs": [],
   "source": [
    "# Wrangle function\n",
    "\n",
    "def wrangle(filepath):\n",
    "    data = pd.read_csv(filepath)\n",
    "    # Dropping the 'car' column entirely due to the large number of nulls\n",
    "    data = data.drop('car', axis=1) \n",
    "    # Replace these 5 below columns Nulls, assuming missing is the same as 'never'\n",
    "    cols = ['Bar', 'CoffeeHouse', 'CarryAway',\n",
    "       'RestaurantLessThan20', 'Restaurant20To50']\n",
    "    for col in cols: \n",
    "        data[col] = data[col].fillna('never')\n",
    "\n",
    "    return data\n",
    "\n",
    "data = wrangle(filepath)"
   ]
  },
  {
   "cell_type": "markdown",
   "metadata": {
    "id": "YE6oJbXd_qRI"
   },
   "source": [
    "4. What proportion of the total observations chose to accept the coupon?\n",
    "\n"
   ]
  },
  {
   "cell_type": "code",
   "execution_count": 65,
   "metadata": {
    "id": "86GGqBTv_qRI"
   },
   "outputs": [
    {
     "name": "stdout",
     "output_type": "stream",
     "text": [
      "Out of total of 12684 observations, there are 7210 observations, or 56.8% of total, where driver chose to accept the coupon.\n"
     ]
    }
   ],
   "source": [
    "total_accepted = data[data['Y'] == 1].shape[0]\n",
    "print(f\"Out of total of {data.shape[0]} observations,\"\n",
    "      f\" there are {total_accepted} observations,\"\n",
    "      f\" or {round((total_accepted/ data.shape[0] *100), 1)}% of total,\"\n",
    "      f\" where driver chose to accept the coupon.\")\n"
   ]
  },
  {
   "cell_type": "markdown",
   "metadata": {
    "id": "vflz0DoE_qRI"
   },
   "source": [
    "5. Use a bar plot to visualize the `coupon` column."
   ]
  },
  {
   "cell_type": "code",
   "execution_count": 381,
   "metadata": {
    "id": "dHFh3E45_qRI"
   },
   "outputs": [
    {
     "data": {
      "image/png": "[encoded data removed]",
      "text/plain": [
       "<Figure size 800x600 with 1 Axes>"
      ]
     },
     "metadata": {},
     "output_type": "display_data"
    }
   ],
   "source": [
    "unique_values = data['coupon'].unique()\n",
    "unique_counts = [data[data['coupon'] == value].shape[0] for value in unique_values]\n",
    "\n",
    "plt.figure(figsize=(8, 6))\n",
    "plt.bar(unique_values, unique_counts, color='skyblue')\n",
    "plt.xlabel('Coupon Types', fontsize=12)\n",
    "plt.xticks(rotation = 20)\n",
    "plt.ylabel('Counts', fontsize=12)\n",
    "plt.title('Barplot of coupon types and their counts', fontsize=14)\n",
    "plt.savefig('images/coupon_barplot.png')\n",
    "plt.show()"
   ]
  },
  {
   "cell_type": "markdown",
   "metadata": {
    "id": "Qw4lCyx2_qRI"
   },
   "source": [
    "6. Use a histogram to visualize the temperature column."
   ]
  },
  {
   "cell_type": "code",
   "execution_count": 81,
   "metadata": {
    "id": "Yg9Anv71_qRI"
   },
   "outputs": [
    {
     "data": {
      "image/png": "[encoded data removed]",
      "text/plain": [
       "<Figure size 640x480 with 1 Axes>"
      ]
     },
     "metadata": {},
     "output_type": "display_data"
    }
   ],
   "source": [
    "sns.histplot(data['temperature'], kde=False, bins=6, color=\"skyblue\")\n",
    "plt.title(\"Histogram of Temperature\")\n",
    "plt.savefig(\"images/histogram_temp.png\")\n",
    "\n",
    "plt.show()"
   ]
  },
  {
   "cell_type": "code",
   "execution_count": 373,
   "metadata": {},
   "outputs": [
    {
     "name": "stdout",
     "output_type": "stream",
     "text": [
      "                       Total   Accepted  Declined  Acceptance Rate\n",
      "Bar                      2017       827      1190             41.0\n",
      "Carry out & Take away    2393      1760       633             74.0\n",
      "Coffee House             3996      1995      2001             50.0\n",
      "Restaurant(20-50)        1492       658       834             44.0\n",
      "Restaurant(<20)          2786      1970       816             71.0\n"
     ]
    }
   ],
   "source": [
    "data_grouped = data.groupby('coupon')[['Y']].value_counts()\n",
    "\n",
    "#Manually created dataframe to summarize stats -- will need to revise later \n",
    "summary_stats = {\n",
    "    'Total ': [827+1190, 1760+633, 2001+1995, 834+658, 1970+816],\n",
    "    'Accepted': [827, 1760, 1995, 658, 1970],\n",
    "    'Declined': [1190, 633, 2001, 834, 816],\n",
    "    'Acceptance Rate': [827/(827+1190), 1760/(1760+633), 1995/(1995+2001), 658/(658+834), 1970/(1970+816)]\n",
    "}\n",
    "summary_stats = pd.DataFrame(summary_stats)\n",
    "summary_stats.index = ['Bar', 'Carry out & Take away', 'Coffee House', 'Restaurant(20-50)', 'Restaurant(<20)']\n",
    "summary_stats['Acceptance Rate'] = round(summary_stats['Acceptance Rate'], 2) *100\n",
    "print(summary_stats)"
   ]
  },
  {
   "cell_type": "code",
   "execution_count": 391,
   "metadata": {},
   "outputs": [
    {
     "data": {
      "image/png": "[encoded data removed]",
      "text/plain": [
       "<Figure size 640x480 with 1 Axes>"
      ]
     },
     "metadata": {},
     "output_type": "display_data"
    }
   ],
   "source": [
    "sns.barplot(x=summary_stats.index, y='Acceptance Rate', data=summary_stats, color='skyblue')\n",
    "plt.xticks(rotation=20)\n",
    "plt.xlabel('Coupon Types')\n",
    "plt.ylabel('Acceptance Rate %')\n",
    "plt.title('Different coupon types and their average acceptance rates')\n",
    "plt.savefig('images/barplot_accept_rate.png')\n",
    "\n",
    "plt.show()"
   ]
  },
  {
   "cell_type": "code",
   "execution_count": 85,
   "metadata": {
    "id": "zLtOaJQk_qRI"
   },
   "outputs": [
    {
     "data": {
      "text/plain": [
       "array(['Restaurant(<20)', 'Coffee House', 'Carry out & Take away', 'Bar',\n",
       "       'Restaurant(20-50)'], dtype=object)"
      ]
     },
     "execution_count": 85,
     "metadata": {},
     "output_type": "execute_result"
    }
   ],
   "source": [
    "data[\"coupon\"].unique() # EDA"
   ]
  },
  {
   "cell_type": "code",
   "execution_count": 195,
   "metadata": {
    "id": "7GBHZKBp_qRJ"
   },
   "outputs": [
    {
     "data": {
      "text/plain": [
       "array(['21', '46', '26', '31', '41', '50plus', '36', 'below21'],\n",
       "      dtype=object)"
      ]
     },
     "execution_count": 195,
     "metadata": {},
     "output_type": "execute_result"
    }
   ],
   "source": [
    "df_bar['age'].unique() # EDA"
   ]
  },
  {
   "cell_type": "code",
   "execution_count": 111,
   "metadata": {
    "id": "Y5nBUA-j_qRJ"
   },
   "outputs": [
    {
     "data": {
      "text/plain": [
       "Bar\n",
       "never    5304\n",
       "less1    3482\n",
       "1~3      2473\n",
       "4~8      1076\n",
       "gt8       349\n",
       "Name: count, dtype: int64"
      ]
     },
     "execution_count": 111,
     "metadata": {},
     "output_type": "execute_result"
    }
   ],
   "source": [
    "data['Bar'].value_counts() # EDA"
   ]
  },
  {
   "cell_type": "markdown",
   "metadata": {
    "id": "FupfgeJk_qRJ"
   },
   "source": [
    "**Investigating the Bar Coupons**\n",
    "\n",
    "Now, we will lead you through an exploration of just the bar related coupons.  \n",
    "\n",
    "1. Create a new `DataFrame` that contains just the bar coupons.\n"
   ]
  },
  {
   "cell_type": "code",
   "execution_count": 211,
   "metadata": {
    "id": "tMBlWuGq_qRJ"
   },
   "outputs": [],
   "source": [
    "df_bar = data[data[\"coupon\"] == \"Bar\"]"
   ]
  },
  {
   "cell_type": "markdown",
   "metadata": {
    "id": "8ue6uCqf_qRJ"
   },
   "source": [
    "2. What proportion of bar coupons were accepted?\n"
   ]
  },
  {
   "cell_type": "code",
   "execution_count": 173,
   "metadata": {
    "id": "hSdte8Mi_qRK"
   },
   "outputs": [
    {
     "name": "stdout",
     "output_type": "stream",
     "text": [
      "There were 827 accepted, or 41.0% of total of 2017 bar coupons.\n"
     ]
    }
   ],
   "source": [
    "bar_coupons_accepted = df_bar[df_bar['Y'] == 1].shape[0]\n",
    "\n",
    "print(f\"There were {bar_coupons_accepted} accepted,\"\n",
    "      f\" or {round((bar_coupons_accepted/ df_bar['Y'].shape[0])*100, 2)}% of\"\n",
    "      f\" total of {df_bar['Y'].shape[0]} bar coupons.\")"
   ]
  },
  {
   "cell_type": "markdown",
   "metadata": {
    "id": "85nA_iEi_qRK"
   },
   "source": [
    "3. Compare the acceptance rate between those who went to a bar 3 or fewer times a month to those who went more.\n"
   ]
  },
  {
   "cell_type": "code",
   "execution_count": 219,
   "metadata": {
    "id": "LBOrN-XM_qRK"
   },
   "outputs": [
    {
     "name": "stdout",
     "output_type": "stream",
     "text": [
      "       total  accepted\n",
      "Bar                   \n",
      "never    851       164\n",
      "less1    570       253\n",
      "1~3      397       257\n",
      "4~8      150       117\n",
      "gt8       49        36\n",
      "The acceptance rate for people who went to the bar 3 times or fewer is: 37.07%.\n",
      "The acceptance rate for people who went more is: 76.88%.\n"
     ]
    }
   ],
   "source": [
    "df_bar = data[data[\"coupon\"] == \"Bar\"].copy()  \n",
    "categories = ['never', 'less1', '1~3', '4~8', 'gt8']\n",
    "\n",
    "# Group and count total occurrences\n",
    "df_bar_grouped = df_bar.groupby('Bar')[['Y']].agg('count').rename(columns={'Y': 'total'})\n",
    "\n",
    "df_bar_grouped = df_bar_grouped.reindex(categories, fill_value=0)\n",
    "\n",
    "# Add the 'accepted' column\n",
    "df_bar_grouped['accepted'] = (\n",
    "    df_bar[df_bar['Y'] == 1]\n",
    "    .groupby('Bar')['Y']\n",
    "    .agg('count')\n",
    "    .reindex(categories, fill_value=0)\n",
    ")\n",
    "\n",
    "\n",
    "# Calculate the acceptance rate\n",
    "low_freq_accept_rate = round((257+253+164) / (851+570+397) *100, 2)\n",
    "high_freq_accept_rate = round((117+36) / (150+49)*100, 2)                      \n",
    "                      \n",
    "print(df_bar_grouped)\n",
    "print(f\"The acceptance rate for people who went to the bar 3 times or fewer is: {low_freq_accept_rate}%.\"\n",
    "      f\"\\nThe acceptance rate for people who went more is: {high_freq_accept_rate}%.\")\n"
   ]
  },
  {
   "cell_type": "markdown",
   "metadata": {
    "id": "RBgcQwH4_qRK"
   },
   "source": [
    "4. Compare the acceptance rate between drivers who go to a bar more than once a month and are over the age of 25 to the all others.  Is there a difference?"
   ]
  },
  {
   "cell_type": "code",
   "execution_count": 395,
   "metadata": {
    "id": "bf28bbeX_qRK"
   },
   "outputs": [
    {
     "name": "stdout",
     "output_type": "stream",
     "text": [
      "The acceptance rate for people went to bar atleast once per month and over 25 is: 54.6%.\n",
      "The acceptance rate for all others is: 30.69%.\n"
     ]
    }
   ],
   "source": [
    "df_bar = data[data[\"coupon\"] == \"Bar\"].copy()  \n",
    "# Remove strings \n",
    "df_bar['age'] = df_bar['age'].apply(lambda x: {'50plus': 50, 'below21': 20}.get(x, x))\n",
    "# Convert object to int\n",
    "df_bar['age'] = df_bar['age'].astype(int)\n",
    "\n",
    "# Create new categorical column \n",
    "df_bar['bar_patron_over_25'] = np.where((df_bar['Bar'] != 'never') & \n",
    "                                        (df_bar['Bar'] != 'less1') &\n",
    "                                        (df_bar['age'] > 25), 1, 0)\n",
    "\n",
    "# Create new df for acceptance rate calculation \n",
    "df_bar_grouped = df_bar.groupby('bar_patron_over_25')[['Y']].agg('count')\n",
    "df_bar_grouped['accepted'] = (\n",
    "    df_bar[df_bar['Y'] == 1]\n",
    "    .groupby('bar_patron_over_25')['Y']\n",
    "    .agg('count')\n",
    ")\n",
    "bar_patron_over_25_accept_rate = round((475/870)*100, 2)\n",
    "other_accept_rate = round((352/1147)*100, 2)\n",
    "\n",
    "print(f\"The acceptance rate for people went to bar atleast once per month and over 25 is: {bar_patron_over_25_accept_rate}%.\"\n",
    "      f\"\\nThe acceptance rate for all others is: {other_accept_rate}%.\")"
   ]
  },
  {
   "cell_type": "markdown",
   "metadata": {
    "id": "S4RKT4PJ_qRK"
   },
   "source": [
    "5. Use the same process to compare the acceptance rate between drivers who go to bars more than once a month and had passengers that were not a kid and had occupations other than farming, fishing, or forestry.\n"
   ]
  },
  {
   "cell_type": "code",
   "execution_count": 245,
   "metadata": {
    "id": "sENaI2Tg_qRK"
   },
   "outputs": [
    {
     "name": "stdout",
     "output_type": "stream",
     "text": [
      "                              Y  accepted\n",
      "excluded_kids_occupations                \n",
      "0                           953       194\n",
      "1                          1064       633\n",
      "The acceptance rate for bar patrons meeting all three conditions is: 59.49%.\n",
      "The acceptance rate for all others is: 20.36%.\n"
     ]
    }
   ],
   "source": [
    "# 3 conditions: bar > 1/mo;  !kids; occupation != ['farming', 'fishing' or 'forestry']\n",
    "df_bar = data[data[\"coupon\"] == \"Bar\"].copy()\n",
    "df_bar['passanger'] = df_bar['passanger'].apply(lambda x: {'Kid(s)': 0}.get(x, 1))\n",
    "df_bar['passanger'] = df_bar['passanger'].astype(int)\n",
    "df_bar['occupation'] = df_bar['occupation'].apply(lambda x: {'farming': 0, 'fishing': 0, 'forestry': 0 }.get(x, 1))\n",
    "df_bar['occupation'] = df_bar['occupation'].astype(int)\n",
    "\n",
    "# Create new column based on conditions\n",
    "df_bar['excluded_kids_occupations'] = np.where((df_bar['Bar'] != 'never') \n",
    "                                               & (df_bar['passanger'] == 1) \n",
    "                                               & (df_bar['occupation'] == 1), 1, 0)\n",
    "\n",
    "df_bar_grouped = df_bar.groupby('excluded_kids_occupations')[['Y']].agg('count')\n",
    "df_bar_grouped['accepted'] = (\n",
    "    df_bar[df_bar['Y'] == 1]\n",
    "    .groupby('excluded_kids_occupations')['Y']\n",
    "    .agg('count')\n",
    ")\n",
    "excluced_accept_rate = round((194/953) *100, 2)\n",
    "included_accept_rate = round((633/1064) *100, 2)\n",
    "\n",
    "print(df_bar_grouped)\n",
    "print(f\"The acceptance rate for bar patrons meeting all three conditions is: {included_accept_rate}%.\"\n",
    "      f\"\\nThe acceptance rate for all others is: {excluced_accept_rate}%.\")"
   ]
  },
  {
   "cell_type": "markdown",
   "metadata": {
    "id": "n2LIUTil_qRK"
   },
   "source": [
    "6. Compare the acceptance rates between those drivers who:\n",
    "\n",
    "- go to bars more than once a month, had passengers that were not a kid, and were not widowed *OR*\n",
    "- go to bars more than once a month and are under the age of 30 *OR*\n",
    "- go to cheap restaurants more than 4 times a month and income is less than 50K.\n",
    "\n"
   ]
  },
  {
   "cell_type": "code",
   "execution_count": 321,
   "metadata": {
    "id": "aK_wEzx7_qRK"
   },
   "outputs": [
    {
     "name": "stdout",
     "output_type": "stream",
     "text": [
      "               Y  accepted\n",
      "condition1                \n",
      "0           1466       434\n",
      "1            551       393\n",
      "The acceptance rate for group meeting 1 set of conditions is: 71.32%.\n",
      "\n",
      "               Y  accepted\n",
      "condition2                \n",
      "0           1672       578\n",
      "1            345       249\n",
      "The acceptance rate for group meeting 2 set of conditions is: 72.17%.\n",
      "\n",
      "               Y  accepted\n",
      "condition3                \n",
      "0           1673       671\n",
      "1            344       156\n",
      "The acceptance rate for group meeting 3 set of conditions is: 45.35%.\n",
      "\n"
     ]
    }
   ],
   "source": [
    "# Name the conditions as condition1, condition2, condition 3, need columns 'maritalStatus', 'age', 'RestaurantLessThan20', 'income'\n",
    "# df_bar = data[data[\"coupon\"] == \"Bar\"].copy()\n",
    "# df_bar['Bar'] = df_bar['Bar'].apply(lambda x: {'never': 0, 'less1':0}.get(x, 1)) # 0 for never and less1\n",
    "# df_bar['Bar'] = df_bar['Bar'].astype(int)\n",
    "# df_bar['passanger'] = df_bar['passanger'].apply(lambda x: {'Kid(s)': 0}.get(x, 1)) # 0 for kids \n",
    "# df_bar['passanger'] = df_bar['passanger'].astype(int)\n",
    "# df_bar['maritalStatus'] = df_bar['maritalStatus'].apply(lambda x: {'Widowed': 0}.get(x, 1)) # 0 for windowed\n",
    "# df_bar['maritalStatus'] = df_bar['maritalStatus'].astype(int)\n",
    "# df_bar['age'] = df_bar['age'].apply(lambda x: {'46': 0, '31': 0, '41': 0, '50plus': 0, '36': 0}.get(x, 1)) # 0 for > 30,\n",
    "# df_bar['age'] = df_bar['age'].astype(int)\n",
    "# df_bar['RestaurantLessThan20'] = df_bar['RestaurantLessThan20'].apply(lambda x: {'never': 0, 'less1': 0, '1~3': 0 }.get(x, 1)) # 0 for < 4\n",
    "# df_bar['RestaurantLessThan20'] = df_bar['RestaurantLessThan20'].astype(int)\n",
    "# df_bar['income'] = df_bar['income'].apply(lambda x: {'$62500 - $74999': 0, \n",
    "#                                                      '$75000 - $87499': 0, \n",
    "#                                                      '$50000 - $62499': 0,\n",
    "#                                                      '$100000 or More': 0, \n",
    "#                                                      '$87500 - $99999': 0\n",
    "#                                                     }.get(x, 1)) # 0 for income > 50K\n",
    "# df_bar['income'] = df_bar['income'].astype(int)\n",
    "# #Create new categorical column\n",
    "# df_bar['condition1'] = np.where((df_bar['Bar'] == 1) &\n",
    "#                                 (df_bar['passanger'] == 1) &\n",
    "#                                 (df_bar['maritalStatus'] == 1), 1, 0)\n",
    "# df_bar['condition2'] = np.where((df_bar['Bar'] == 1) &\n",
    "#                                 (df_bar['age'] == 1), 1, 0)\n",
    "# df_bar['condition3'] = np.where((df_bar['RestaurantLessThan20'] == 1) &\n",
    "#                                 (df_bar['income'] == 1), 1, 0)\n",
    "# # group_columns = ['condition1', 'condition2', 'condition3'] \n",
    "# df_bar_grouped1 = df_bar.groupby('condition1')[['Y']].agg('count')\n",
    "# df_bar_grouped1['accepted'] = (\n",
    "#     df_bar[df_bar['Y'] == 1]\n",
    "#     .groupby('condition1')['Y']\n",
    "#     .agg('count')\n",
    "# )\n",
    "# df_bar_grouped2 = df_bar.groupby('condition2')[['Y']].agg('count')\n",
    "# df_bar_grouped2['accepted'] = (\n",
    "#     df_bar[df_bar['Y'] == 1]\n",
    "#     .groupby('condition2')['Y']\n",
    "#     .agg('count')\n",
    "# )\n",
    "# df_bar_grouped3 = df_bar.groupby('condition3')[['Y']].agg('count')\n",
    "# df_bar_grouped3['accepted'] = (\n",
    "#     df_bar[df_bar['Y'] == 1]\n",
    "#     .groupby('condition3')['Y']\n",
    "#     .agg('count')\n",
    "# )\n",
    "# condition1_accept_rate = round((df_bar_grouped1.loc[1, 'accepted']/df_bar_grouped1.loc[1, 'Y'])*100, 2)\n",
    "# condition2_accept_rate = round((df_bar_grouped2.loc[1, 'accepted']/df_bar_grouped2.loc[1, 'Y'])*100, 2)\n",
    "# condition3_accept_rate = round((df_bar_grouped3.loc[1, 'accepted']/df_bar_grouped3.loc[1, 'Y'])*100, 2)\n",
    "\n",
    "# print(df_bar_grouped1)\n",
    "# print(df_bar_grouped2)\n",
    "# print(df_bar_grouped3)\n",
    "\n",
    "# print(f\"The acceptance rate for group meeting 1st set of conditions is: {condition1_accept_rate}%.\\n\"\n",
    "#       f\"The acceptance rate for group meeting 2nd set of conditions is: {condition2_accept_rate}%.\\n\"\n",
    "#       f\"The acceptance rate for group meeting 3rd set of conditions is: {condition3_accept_rate}%.\\n\"\n",
    "# )\n",
    "\n",
    "## Rewrite cleaner code below\n",
    "\n",
    "df_bar = data[data[\"coupon\"] == \"Bar\"].copy()\n",
    "\n",
    "# Map transformations for multiple columns\n",
    "mapping = {\n",
    "    'Bar': {'never': 0, 'less1': 0},\n",
    "    'passanger': {'Kid(s)': 0},\n",
    "    'maritalStatus': {'Widowed': 0},\n",
    "    'age': {'46': 0, '31': 0, '41': 0, '50plus': 0, '36': 0},\n",
    "    'RestaurantLessThan20': {'never': 0, 'less1': 0, '1~3': 0},\n",
    "    'income': {\n",
    "        '$62500 - $74999': 0, '$75000 - $87499': 0, '$50000 - $62499': 0, \n",
    "        '$100000 or More': 0, '$87500 - $99999': 0\n",
    "    }\n",
    "}\n",
    "\n",
    "for column, map_dict in mapping.items():\n",
    "    df_bar[column] = df_bar[column].map(map_dict).fillna(1).astype(int)\n",
    "\n",
    "# Create new categorical columns\n",
    "df_bar['condition1'] = np.where(\n",
    "    (df_bar['Bar'] == 1) & (df_bar['passanger'] == 1) & (df_bar['maritalStatus'] == 1), 1, 0\n",
    ")\n",
    "df_bar['condition2'] = np.where((df_bar['Bar'] == 1) & (df_bar['age'] == 1), 1, 0)\n",
    "df_bar['condition3'] = np.where((df_bar['RestaurantLessThan20'] == 1) & (df_bar['income'] == 1), 1, 0)\n",
    "\n",
    "# Define a function for grouped stats\n",
    "def calculate_grouped_stats(df, condition_column):\n",
    "    grouped = df.groupby(condition_column)[['Y']].agg('count')\n",
    "    grouped['accepted'] = df[df['Y'] == 1].groupby(condition_column)['Y'].agg('count')\n",
    "    return grouped\n",
    "\n",
    "# Grouped statistics for each condition\n",
    "conditions = ['condition1', 'condition2', 'condition3']\n",
    "grouped_stats = {condition: calculate_grouped_stats(df_bar, condition) for condition in conditions}\n",
    "\n",
    "# Calculate acceptance rates\n",
    "acceptance_rates = {\n",
    "    condition: round((stats.loc[1, 'accepted'] / stats.loc[1, 'Y']) * 100, 2)\n",
    "    for condition, stats in grouped_stats.items()\n",
    "}\n",
    "\n",
    "# Print results\n",
    "for i, condition in enumerate(conditions, start=1):\n",
    "    print(grouped_stats[condition])\n",
    "    print(f\"The acceptance rate for group meeting {i} set of conditions is: {acceptance_rates[condition]}%.\\n\")"
   ]
  },
  {
   "cell_type": "markdown",
   "metadata": {
    "id": "v3fL3QkO_qRK"
   },
   "source": [
    "7.  Based on these observations, what do you hypothesize about drivers who accepted the bar coupons?"
   ]
  },
  {
   "cell_type": "code",
   "execution_count": 291,
   "metadata": {
    "id": "Y48naDFh_qRL"
   },
   "outputs": [
    {
     "name": "stdout",
     "output_type": "stream",
     "text": [
      "The observations suggested that the acceptance rates for Bar coupons are higher when driver is a regular bar patron and passenger does not include kids. However, acceptance rates tend to decrease as age range increases or income level decreases. \n",
      "In summary, the observations indicate there is business opportunity in increasing Bar coupon acceptance rates above the average of 41.0%. This can be achieved by targeting specific groups of drivers using above conditions.\n"
     ]
    }
   ],
   "source": [
    "print(f\"The observations suggested that the acceptance rates for Bar coupons are higher when driver is a regular bar patron and passenger does not include kids.\"\n",
    "      f\" However, acceptance rates tend to decrease as age range increases or income level decreases.\"\n",
    "      f\" \\nIn summary, the observations indicate there is business opportunity in increasing Bar coupon acceptance rates above the average of 41.0%.\"\n",
    "      f\" This can be achieved by targeting specific groups of drivers using above conditions.\")"
   ]
  },
  {
   "cell_type": "markdown",
   "metadata": {
    "id": "r4Hu1zOb_qRL"
   },
   "source": [
    "### Independent Investigation\n",
    "\n",
    "Using the bar coupon example as motivation, you are to explore one of the other coupon groups and try to determine the characteristics of passengers who accept the coupons.  "
   ]
  },
  {
   "cell_type": "code",
   "execution_count": 297,
   "metadata": {
    "id": "0c71cQhu_qRL"
   },
   "outputs": [],
   "source": [
    "# Select 'Coffee House' coupons for analysis\n",
    "df_coffee = data[data[\"coupon\"] == \"Coffee House\"]"
   ]
  },
  {
   "cell_type": "code",
   "execution_count": 305,
   "metadata": {
    "id": "QEsBkvIN_qRL"
   },
   "outputs": [
    {
     "name": "stdout",
     "output_type": "stream",
     "text": [
      "There were 1995 accepted, or 49.92% of total of 3996 Coffee House coupons.\n"
     ]
    }
   ],
   "source": [
    "# Set baseline with average acceptance rate for Coffee House coupons\n",
    "coffee_coupons_accepted = df_coffee[df_coffee['Y'] == 1].shape[0]\n",
    "baseline_accept_rate = round((coffee_coupons_accepted/ df_coffee['Y'].shape[0]) *100, 2)\n",
    "\n",
    "print(f\"There were {coffee_coupons_accepted} accepted,\"\n",
    "      f\" or {baseline_accept_rate}% of\"\n",
    "      f\" total of {df_coffee['Y'].shape[0]} Coffee House coupons.\")"
   ]
  },
  {
   "cell_type": "code",
   "execution_count": 333,
   "metadata": {
    "id": "fTC2WGE3_qRL"
   },
   "outputs": [],
   "source": [
    "# Select conditions based on coffee house patron history (>1), income level (<50K), education (atleast some college), and driving destination (!= home)\n",
    "# Map transformations for multiple columns in df\n",
    "df_coffee = data[data[\"coupon\"] == \"Coffee House\"].copy()\n",
    "mapping = {\n",
    "    'CoffeeHouse': {'never': 0, 'less1': 0},\n",
    "    'education': {'High School Graduate': 0, 'Some High School': 0},\n",
    "    'destination': {'Home': 0},\n",
    "    'income': {\n",
    "        '$62500 - $74999': 0, '$75000 - $87499': 0, '$50000 - $62499': 0, \n",
    "        '$100000 or More': 0, '$87500 - $99999': 0\n",
    "    }\n",
    "}\n",
    "\n",
    "for column, map_dict in mapping.items():\n",
    "    df_coffee[column] = df_coffee[column].map(map_dict).fillna(1).astype(int)\n"
   ]
  },
  {
   "cell_type": "code",
   "execution_count": 337,
   "metadata": {},
   "outputs": [],
   "source": [
    "# Create new categorical columns for condition sets:\n",
    "# 1st set: >1 visits to Coffee house and income level is <50K\n",
    "df_coffee['patron_low_income'] = np.where(\n",
    "    (df_coffee['CoffeeHouse'] == 1) & (df_coffee['CoffeeHouse'] == 1) & (df_coffee['income'] == 1), 1, 0\n",
    ")\n",
    "# 2nd set: >1 visits to Coffee house and education is atleast some college or more \n",
    "df_coffee['patron_college_education'] = np.where((df_coffee['CoffeeHouse'] == 1) & (df_coffee['education'] == 1), 1, 0)\n",
    "# 3rd set: >1 visits to Cofee house and isn't on the way home\n",
    "df_coffee['patron_outbound_destination'] = np.where((df_coffee['CoffeeHouse'] == 1) & (df_coffee['destination'] == 1), 1, 0)"
   ]
  },
  {
   "cell_type": "code",
   "execution_count": 347,
   "metadata": {},
   "outputs": [],
   "source": [
    "# Grouped statistics for each set of conditions\n",
    "conditions = ['patron_low_income', 'patron_college_education', 'patron_outbound_destination']\n",
    "grouped_stats = {condition: calculate_grouped_stats(df_coffee, condition) for condition in conditions}"
   ]
  },
  {
   "cell_type": "code",
   "execution_count": 349,
   "metadata": {},
   "outputs": [
    {
     "name": "stdout",
     "output_type": "stream",
     "text": [
      "                      Y  accepted\n",
      "patron_low_income                \n",
      "0                  2971      1280\n",
      "1                  1025       715\n",
      "The acceptance rate for group meeting 1 set of conditions (patron_low_income) is: 69.76%.\n",
      "\n",
      "                             Y  accepted\n",
      "patron_college_education                \n",
      "0                         2207       823\n",
      "1                         1789      1172\n",
      "The acceptance rate for group meeting 2 set of conditions (patron_college_education) is: 65.51%.\n",
      "\n",
      "                                Y  accepted\n",
      "patron_outbound_destination                \n",
      "0                            2517       967\n",
      "1                            1479      1028\n",
      "The acceptance rate for group meeting 3 set of conditions (patron_outbound_destination) is: 69.51%.\n",
      "\n"
     ]
    }
   ],
   "source": [
    "# Calculate acceptance rates for each of the set of conditions and print results\n",
    "acceptance_rates = {\n",
    "    condition: round((stats.loc[1, 'accepted'] / stats.loc[1, 'Y']) * 100, 2)\n",
    "    for condition, stats in grouped_stats.items()\n",
    "}\n",
    "\n",
    "for i, condition in enumerate(conditions, start=1):\n",
    "    print(grouped_stats[condition])\n",
    "    print(f\"The acceptance rate for group meeting {i} set of conditions ({condition}) is: {acceptance_rates[condition]}%.\\n\")"
   ]
  },
  {
   "cell_type": "code",
   "execution_count": 351,
   "metadata": {},
   "outputs": [
    {
     "name": "stdout",
     "output_type": "stream",
     "text": [
      "The observations showed that the characteristics of people who accepts coupons for coffee house tend to have income lower than 50K, with highest education beyond high school, and isn't driving home\n"
     ]
    }
   ],
   "source": [
    "# Print conclusion from the observations using income level, education and destination \n",
    "print(f\"The observations showed that the characteristics of people who accepts\"\n",
    "      f\" coupons for coffee house tend to have income lower than 50K, with highest education beyond high school, and isn't driving home\"\n",
    ")"
   ]
  }
 ],
 "metadata": {
  "colab": {
   "provenance": []
  },
  "kernelspec": {
   "display_name": "Python 3 (ipykernel)",
   "language": "python",
   "name": "python3"
  },
  "language_info": {
   "codemirror_mode": {
    "name": "ipython",
    "version": 3
   },
   "file_extension": ".py",
   "mimetype": "text/x-python",
   "name": "python",
   "nbconvert_exporter": "python",
   "pygments_lexer": "ipython3",
   "version": "3.12.7"
  }
 },
 "nbformat": 4,
 "nbformat_minor": 4
}
